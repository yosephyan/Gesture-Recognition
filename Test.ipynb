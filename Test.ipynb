{
 "cells": [
  {
   "cell_type": "markdown",
   "id": "b4217387",
   "metadata": {},
   "source": [
    "# Yoseph Yan, ypy4, March 5, 2024, Intelligent Autonomous Systems"
   ]
  },
  {
   "cell_type": "code",
   "execution_count": 1,
   "id": "6964c15d",
   "metadata": {},
   "outputs": [],
   "source": [
    "import numpy as np\n",
    "import pandas as pd\n",
    "import os\n",
    "from sklearn.cluster import KMeans\n",
    "import pickle\n",
    "import warnings\n",
    "warnings.filterwarnings('ignore')"
   ]
  },
  {
   "cell_type": "code",
   "execution_count": 2,
   "id": "fd305851",
   "metadata": {},
   "outputs": [],
   "source": [
    "# Function that tests the model\n",
    "def test(clusters, pi, A, B):\n",
    "    # Initializes the parameter\n",
    "    param = 0\n",
    "\n",
    "    # Number of observations\n",
    "    T = len(clusters)\n",
    "\n",
    "    # Initializes alpha\n",
    "    alpha = np.zeros((N, T))\n",
    "\n",
    "    # Computes alpha\n",
    "    alpha[:, 0] = (pi * B[:, clusters[0]])\n",
    "\n",
    "    # Loops through the observations\n",
    "    for t in range(1, T):\n",
    "        # Computes alpha\n",
    "        alpha[:, t] = ((alpha[:, t - 1]).dot(A)) * B[:, clusters[t]]\n",
    "        asum = alpha[:, t].sum()\n",
    "        alpha[:, t] /= asum\n",
    "        param += np.log(asum)\n",
    "\n",
    "    # Returns the result\n",
    "    return param"
   ]
  },
  {
   "cell_type": "code",
   "execution_count": 3,
   "id": "c4177c64",
   "metadata": {},
   "outputs": [
    {
     "name": "stdout",
     "output_type": "stream",
     "text": [
      "Prediction for test7.txt: (1) wave, (2) eight, (3) beat4\n",
      "Prediction for test6.txt: (1) eight, (2) inf, (3) beat4\n",
      "Prediction for test4.txt: (1) beat3, (2) beat4, (3) wave\n",
      "Prediction for test5.txt: (1) circle, (2) beat4, (3) beat3\n",
      "Prediction for test1.txt: (1) inf, (2) eight, (3) beat3\n",
      "Prediction for test2.txt: (1) beat4, (2) beat3, (3) wave\n",
      "Prediction for test3.txt: (1) inf, (2) eight, (3) beat3\n",
      "Prediction for test8.txt: (1) beat3, (2) beat4, (3) wave\n"
     ]
    }
   ],
   "source": [
    "# Defines the path to the test data\n",
    "testpath = \"ECE5242Proj2-test-selected\" \n",
    "\n",
    "# Loads the model\n",
    "with open('model/model.pickle', 'rb') as file:\n",
    "    dictionary = pickle.load(file)\n",
    "    \n",
    "# Loads kmeans\n",
    "with open('model/kmeans.pickle', 'rb') as file:\n",
    "    kmeans = pickle.load(file)\n",
    "\n",
    "# Initializes the number of hidden states and observation clusters\n",
    "N = 15\n",
    "M = 75\n",
    "    \n",
    "# Loops through the test files\n",
    "for testfile in os.listdir(testpath):\n",
    "    # Full path to the files in the test folder\n",
    "    testfilepath = os.path.join(testpath, testfile)\n",
    "\n",
    "    # Reads the data from the files\n",
    "    data = pd.read_csv(testfilepath, sep='\\t', header=None, names=['ts', 'Wx', 'Wy', 'Wz', 'Ax', 'Ay', 'Az'])\n",
    "    data = data.drop(columns=['ts'], axis=1)\n",
    "\n",
    "    # Computes the kmeans clustering\n",
    "    clusters = kmeans.predict(data)\n",
    "\n",
    "    # Initializes the results\n",
    "    results = {}\n",
    "\n",
    "    # Loops through the labels and computes the test\n",
    "    for current_gesture in dictionary.keys():\n",
    "        # Initializes pi, a, b\n",
    "        pi = dictionary[current_gesture][\"pi\"]\n",
    "        a = dictionary[current_gesture][\"A\"]\n",
    "        b = dictionary[current_gesture][\"B\"]\n",
    "        \n",
    "        # Computes test\n",
    "        test_results = test(clusters, pi, a, b)\n",
    "        results[current_gesture] = test_results\n",
    "\n",
    "    # Sorts to get 3 highest gestures\n",
    "    gesture = sorted(results.items(), key=lambda x: -x[1])\n",
    "    \n",
    "    # Prints the test results\n",
    "    print(\"Prediction for \" + testfile + \": (1) \" + gesture[0][0] + \", (2) \" + gesture[1][0] + \", (3) \" + gesture[2][0])"
   ]
  },
  {
   "cell_type": "code",
   "execution_count": null,
   "id": "319c4db8",
   "metadata": {},
   "outputs": [],
   "source": []
  }
 ],
 "metadata": {
  "kernelspec": {
   "display_name": "Python 3 (ipykernel)",
   "language": "python",
   "name": "python3"
  },
  "language_info": {
   "codemirror_mode": {
    "name": "ipython",
    "version": 3
   },
   "file_extension": ".py",
   "mimetype": "text/x-python",
   "name": "python",
   "nbconvert_exporter": "python",
   "pygments_lexer": "ipython3",
   "version": "3.11.5"
  }
 },
 "nbformat": 4,
 "nbformat_minor": 5
}
